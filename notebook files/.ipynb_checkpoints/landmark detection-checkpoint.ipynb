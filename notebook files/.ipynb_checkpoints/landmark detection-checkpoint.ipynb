{
 "cells": [
  {
   "cell_type": "code",
   "execution_count": 51,
   "metadata": {},
   "outputs": [],
   "source": [
    "#Import necessary libraries\n",
    "from imutils import face_utils\n",
    "import numpy as np\n",
    "import argparse\n",
    "import imutils\n",
    "import dlib\n",
    "import cv2"
   ]
  },
  {
   "cell_type": "code",
   "execution_count": 52,
   "metadata": {},
   "outputs": [],
   "source": [
    "#CAPTURE VIDEO, INITIALIZE GLOBAL VARIABLES\n",
    "cap = cv2.VideoCapture(0)\n",
    "pts_inner = []\n",
    "pts_outer = []"
   ]
  },
  {
   "cell_type": "code",
   "execution_count": 53,
   "metadata": {},
   "outputs": [],
   "source": [
    "detector = dlib.get_frontal_face_detector()\n",
    "predictor = dlib.shape_predictor('shape_predictor_68_face_landmarks.dat')"
   ]
  },
  {
   "cell_type": "code",
   "execution_count": 54,
   "metadata": {},
   "outputs": [],
   "source": [
    "while True:\n",
    "    ret, frame = cap.read()\n",
    "    \n",
    "    \n",
    "    gray = cv2.cvtColor(frame,cv2.COLOR_BGR2GRAY)\n",
    "    \n",
    "    faces = detector(gray)\n",
    "    for face in faces:\n",
    "        x1 = face.left()\n",
    "        y1 = face.top()\n",
    "        x2 = face.right()\n",
    "        y2 = face.bottom()\n",
    "        #cv2.rectangle(frame,(x1,y1),(x2,y2),(0,255,0),3)\n",
    "        \n",
    "        landmarks = predictor(gray,face)\n",
    "        \n",
    "        for i in range(48,60): \n",
    "            x = landmarks.part(i).x\n",
    "            y = landmarks.part(i).y\n",
    "            t = (x,y)\n",
    "            pts_outer.append(t)\n",
    "            cv2.circle(frame,(x,y),1,(255,255,255),-1)\n",
    "    \n",
    "    \n",
    "        pts_outer = np.array(pts_outer,np.int32)\n",
    "        pts_outer.reshape((-1,1,2))\n",
    "        cv2.polylines(frame,[pts_outer],True,(255,0,255),2)    \n",
    "        pts_outer = []\n",
    "    \n",
    "    \n",
    "        for i in range(60,68):\n",
    "            x = landmarks.part(i).x\n",
    "            y = landmarks.part(i).y\n",
    "            t = (x,y)\n",
    "            pts_inner.append(t)\n",
    "            cv2.circle(frame,(x,y),1,(255,255,255),-1)\n",
    "    \n",
    "        pts_inner = np.array(pts_inner,np.int32)\n",
    "        pts_inner.reshape((-1,1,2))\n",
    "        cv2.polylines(frame,[pts_inner],True,(255,0,255),2)    \n",
    "        pts_inner = []\n",
    "    \n",
    "    \n",
    "    cv2.imshow('frame',frame)\n",
    "    \n",
    "    if cv2.waitKey(1) & 0xFF == ord('q'):\n",
    "        break\n",
    "        \n",
    "        \n",
    "cap.release()\n",
    "cv2.destroyAllWindows()"
   ]
  },
  {
   "cell_type": "code",
   "execution_count": null,
   "metadata": {},
   "outputs": [],
   "source": []
  },
  {
   "cell_type": "code",
   "execution_count": null,
   "metadata": {},
   "outputs": [],
   "source": []
  }
 ],
 "metadata": {
  "kernelspec": {
   "display_name": "Python [conda env:.conda-VSR]",
   "language": "python",
   "name": "conda-env-.conda-VSR-py"
  },
  "language_info": {
   "codemirror_mode": {
    "name": "ipython",
    "version": 3
   },
   "file_extension": ".py",
   "mimetype": "text/x-python",
   "name": "python",
   "nbconvert_exporter": "python",
   "pygments_lexer": "ipython3",
   "version": "3.8.2"
  }
 },
 "nbformat": 4,
 "nbformat_minor": 4
}
