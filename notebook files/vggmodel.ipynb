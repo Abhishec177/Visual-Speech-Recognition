{
 "cells": [
  {
   "cell_type": "code",
   "execution_count": 1,
   "metadata": {},
   "outputs": [
    {
     "name": "stderr",
     "output_type": "stream",
     "text": [
      "Using TensorFlow backend.\n"
     ]
    }
   ],
   "source": [
    "import keras,os\n",
    "from keras.models import Sequential\n",
    "from keras.layers import Dense,Conv2D,Flatten,MaxPool2D,Dropout\n",
    "from keras.preprocessing.image import ImageDataGenerator\n",
    "from keras.applications.vgg16 import VGG16\n",
    "from keras.regularizers import l2\n",
    "import numpy as np\n",
    "import matplotlib.pyplot as plt\n"
   ]
  },
  {
   "cell_type": "code",
   "execution_count": 2,
   "metadata": {},
   "outputs": [
    {
     "name": "stdout",
     "output_type": "stream",
     "text": [
      "Found 3548 images belonging to 20 classes.\n"
     ]
    }
   ],
   "source": [
    "tr_data = ImageDataGenerator()\n",
    "train_data = tr_data.flow_from_directory(directory='../data/',target_size=(175,175))"
   ]
  },
  {
   "cell_type": "code",
   "execution_count": 3,
   "metadata": {},
   "outputs": [],
   "source": [
    "def predictor_model():\n",
    "    model = Sequential()\n",
    "    \n",
    "    vggmodel = VGG16(weights='imagenet', include_top=True)\n",
    "    #VGG16 Model implementation    \n",
    "    model.add(vggmodel)\n",
    "    #classifier model to put on top of the convolutional model\n",
    "    classifier_model = Sequential()\n",
    "    classifier_model.add(Flatten(input_shape=model.output_shape[1:]))\n",
    "    classifier_model.add(Dense(4096, activation='relu', kernel_regularizer=l2(0.1)))\n",
    "    classifier_model.add(Dropout(0.5))\n",
    "    classifier_model.add(Dense(4096, activation='relu', kernel_regularizer=l2(0.1)))\n",
    "    classifier_model.add(Dropout(0.5))\n",
    "    classifier_model.add(Dense(20, activation='softmax')) \n",
    "    model.add(classifier_model)\n",
    "    return model"
   ]
  },
  {
   "cell_type": "code",
   "execution_count": null,
   "metadata": {},
   "outputs": [
    {
     "name": "stdout",
     "output_type": "stream",
     "text": [
      "A local file was found, but it seems to be incomplete or outdated because the auto file hash does not match the original value of 64373286793e3c8b2b4e3219cbf3544b so we will re-download the data.\n",
      "Downloading data from https://github.com/fchollet/deep-learning-models/releases/download/v0.1/vgg16_weights_tf_dim_ordering_tf_kernels.h5\n",
      "  1204224/553467096 [..............................] - ETA: 40:41"
     ]
    }
   ],
   "source": [
    "    #model = predictor_model()\n",
    "    #model.compile(optimizer='adam', loss=keras.losses.categorical_crossentropy, metrics=['accuracy'])\n",
    "    #model.summary()"
   ]
  }
 ],
 "metadata": {
  "kernelspec": {
   "display_name": "Python 3",
   "language": "python",
   "name": "python3"
  },
  "language_info": {
   "codemirror_mode": {
    "name": "ipython",
    "version": 3
   },
   "file_extension": ".py",
   "mimetype": "text/x-python",
   "name": "python",
   "nbconvert_exporter": "python",
   "pygments_lexer": "ipython3",
   "version": "3.7.4"
  }
 },
 "nbformat": 4,
 "nbformat_minor": 4
}
